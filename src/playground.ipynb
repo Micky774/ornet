{
 "cells": [
  {
   "cell_type": "code",
   "execution_count": null,
   "metadata": {},
   "outputs": [],
   "source": [
    "import numpy as np\n",
    "import plotly.graph_objects as go\n",
    "import plotly.express as px"
   ]
  },
  {
   "cell_type": "code",
   "execution_count": null,
   "metadata": {},
   "outputs": [],
   "source": [
    "data=np.load('MDIVI/Mdivi1_7_18_2_3.npz')\n",
    "vals,vecs=data['eigen_vals'],data['eigen_vecs']\n",
    "index=np.argsort(vals)"
   ]
  },
  {
   "cell_type": "code",
   "execution_count": null,
   "metadata": {},
   "outputs": [],
   "source": [
    "'''\n",
    "Get the trailing elements of input x\n",
    "\n",
    "@param x a 2nd order tensor with frames along the first axis\n",
    "@param f the particular frame to pull from\n",
    "@param i the parameter which determines how many trailing elements to pull\n",
    "'''\n",
    "def getTrail(x,f,i=10):\n",
    "    return x[f,index[f,:i]]"
   ]
  },
  {
   "cell_type": "code",
   "execution_count": null,
   "metadata": {},
   "outputs": [],
   "source": [
    "'''\n",
    "Get the trailing elements of input x as a series iterating over frames\n",
    "\n",
    "@param x a 2nd order tensor with frames along the first axis\n",
    "@param f the parameter which determines how many frames to process\n",
    "@param i the parameter which determines how many trailing elements to pull\n",
    "'''\n",
    "def getTrailSeries(x,f,i=10):\n",
    "    out=np.zeros((f,i))\n",
    "    for k in range(f):\n",
    "        out[k]=getTrail(x,k,i)\n",
    "    return out"
   ]
  },
  {
   "cell_type": "code",
   "execution_count": null,
   "metadata": {},
   "outputs": [],
   "source": [
    "'''\n",
    "Creates a lineplot leveragin getTrailSeries\n",
    "\n",
    "@param x a 2nd order tensor with frames along the first axis\n",
    "@param f the parameter which determines how many frames to process\n",
    "@param i the parameter which determines how many trailing elements to pull\n",
    "'''\n",
    "\n",
    "def makeLine(x,f,i=10):\n",
    "    fig=go.Figure()\n",
    "    t=np.linspace(1,f,f)\n",
    "    data=getTrailSeries(x,f,i)\n",
    "    for k in range(1,i):\n",
    "        fig.add_trace(go.Scatter(x=t, y=data[:,k]))\n",
    "    return fig"
   ]
  },
  {
   "cell_type": "code",
   "execution_count": null,
   "metadata": {},
   "outputs": [],
   "source": [
    "'''\n",
    "Convert the data array into a fourier spectrum and display as a bar plot.\n",
    "Note that we assume that the samples are collected over unit time, hence\n",
    "the implicit sample frequency is #frames Hz. Note that in displaying the\n",
    "spectra, if scaled then the constant term (freq 0) is omitted.\n",
    "\n",
    "@param data a 2nd order tensor with frames along the first axis\n",
    "@param i the parameter which determines how many trailing elements to pull.\n",
    "       Note that the lowest trailing element, 0, is skipped.\n",
    "@param cutoff the proportion (1/cutoff) of frequencies to display. That is\n",
    "       to say, the output will display frequencies [0,#frames//(2*cutoff)]\n",
    "@param scale if true, then the spectrum for each eigenvalue is scaled so\n",
    "       that its value at freq 0 (constant) is 1. That is to say, the spectrum\n",
    "       amplitudes become proportional to the amplitude of freq 0.\n",
    "'''\n",
    "\n",
    "def makeFourier(data,i=10,cutoff=5,scale=True):\n",
    "    fig=go.Figure()\n",
    "    N=len(data)\n",
    "    data=data/data[:,1:2]\n",
    "    \n",
    "    #Freq space assuming eigenvalues sampled \n",
    "    #uniformally over unit time\n",
    "    freq = np.linspace(0, 1, N)\n",
    "    data=np.fft.rfft(data,axis=0)\n",
    "    data=np.abs(data)/N\n",
    "    if(scale):\n",
    "        data=data/data[:1,:]\n",
    "\n",
    "    for k in range(1,i):\n",
    "        fig.add_trace(go.Bar(x=freq, y=data[1 if scale else 0:len(data)//cutoff,k]))\n",
    "    return fig\n"
   ]
  },
  {
   "cell_type": "code",
   "execution_count": null,
   "metadata": {},
   "outputs": [],
   "source": [
    "# Make a line plot of the trailing eigenvalues\n",
    "makeLine(vals,len(vals),6).show()\n",
    "\n",
    "# Fourier analysis of the trailing eigenvalues\n",
    "data=getTrailSeries(vals,len(vals),7)\n",
    "makeFourier(data,6,5).show()\n",
    "\n",
    "# Look at the differences between eigenvalues4\n",
    "# Otherwise known as eigengaps\n",
    "# eigengap_k=eigenvalue_k-eigenvalue_k+1\n",
    "data=np.diff(data)\n",
    "\n",
    "# Fourier analysis of the differences\n",
    "makeFourier(data,6,5,scale=False).show()"
   ]
  },
  {
   "cell_type": "code",
   "execution_count": null,
   "metadata": {},
   "outputs": [],
   "source": []
  }
 ],
 "metadata": {
  "kernelspec": {
   "display_name": "Python 3",
   "language": "python",
   "name": "python3"
  },
  "language_info": {
   "codemirror_mode": {
    "name": "ipython",
    "version": 3
   },
   "file_extension": ".py",
   "mimetype": "text/x-python",
   "name": "python",
   "nbconvert_exporter": "python",
   "pygments_lexer": "ipython3",
   "version": "3.7.4"
  }
 },
 "nbformat": 4,
 "nbformat_minor": 2
}
